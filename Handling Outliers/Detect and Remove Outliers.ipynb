{
 "cells": [
  {
   "cell_type": "markdown",
   "id": "57acfcea",
   "metadata": {},
   "source": [
    "# Detect and Remove Outliers in the Data |  Python"
   ]
  },
  {
   "cell_type": "code",
   "execution_count": 168,
   "id": "08d92dbf",
   "metadata": {},
   "outputs": [],
   "source": [
    "import pandas as pd\n",
    "import numpy as np\n",
    "import seaborn as sns\n",
    "import matplotlib.pyplot as plt"
   ]
  },
  {
   "cell_type": "markdown",
   "id": "a6af0f1f",
   "metadata": {},
   "source": [
    "# Detect and Remove Outliers in the Data"
   ]
  },
  {
   "cell_type": "markdown",
   "id": "2aba083e",
   "metadata": {},
   "source": [
    "Detecting and removing outliers in a dataset can be done using various methods. \n",
    "\n",
    "Here's a step-by-step guide using Python:"
   ]
  },
  {
   "cell_type": "markdown",
   "id": "17fa2a7e",
   "metadata": {},
   "source": [
    "Explore the process of how to detect and remove outliers in data using Python for machine learning tasks. Gain insights into outlier detection techniques, such as statistical methods and visualization tools. Learn how to handle outliers by applying robust statistical measures and preprocessing techniques. Enhance your understanding of outlier impact on machine learning models and improve the accuracy and reliability of your predictions."
   ]
  },
  {
   "cell_type": "markdown",
   "id": "6b2b14ae",
   "metadata": {},
   "source": [
    "## I. Detecting Outliers"
   ]
  },
  {
   "cell_type": "markdown",
   "id": "2e48bebb",
   "metadata": {},
   "source": [
    "We can use different techniques to detect outliers such as:\n",
    "\n",
    "1.Z-score method\n",
    "\n",
    "2.IQR (Interquartile Range) method\n"
   ]
  },
  {
   "cell_type": "markdown",
   "id": "1daa9efa",
   "metadata": {},
   "source": [
    "## II. Removing Outliers\n",
    "\n",
    "Once the outliers are detected, we can remove them from the dataset.\n",
    "\n",
    "Here is an example using the Z-score method and the IQR method:"
   ]
  },
  {
   "cell_type": "markdown",
   "id": "9d0e2bf6",
   "metadata": {},
   "source": [
    "##  I. Z-score Method\n",
    "\n",
    "The Z-score method standardizes the data and finds outliers based on a threshold. Typically, a Z-score threshold of 3 or -3 is used."
   ]
  },
  {
   "cell_type": "markdown",
   "id": "1ef48463",
   "metadata": {},
   "source": [
    "##  II.IQR Method\n",
    "\n",
    "The IQR method calculates the interquartile range and defines outliers as points outside 1.5 * IQR above the third quartile or below the first quartile."
   ]
  },
  {
   "cell_type": "markdown",
   "id": "24ee189b",
   "metadata": {},
   "source": [
    "## III. Percentile Method\n",
    "\n",
    "The percentile method can be used to handle outliers in a dataset. The percentile method involves setting a threshold based on percentiles and capping or truncating the outlier values accordingly"
   ]
  },
  {
   "cell_type": "markdown",
   "id": "63fc98dd",
   "metadata": {},
   "source": [
    "     "
   ]
  },
  {
   "cell_type": "markdown",
   "id": "2e4adda5",
   "metadata": {},
   "source": [
    "## Load the Dataset\n",
    "\n",
    "We will read the data from the csv file "
   ]
  },
  {
   "cell_type": "raw",
   "id": "18e989a1",
   "metadata": {},
   "source": [
    "The code snippet reads a CSV file named 'WineQT.csv' into a Pandas DataFrame object named 'df' and then displaying the first few rows of the DataFrame using the head() function"
   ]
  },
  {
   "cell_type": "code",
   "execution_count": 169,
   "id": "7874952e",
   "metadata": {},
   "outputs": [
    {
     "data": {
      "text/html": [
       "<div>\n",
       "<style scoped>\n",
       "    .dataframe tbody tr th:only-of-type {\n",
       "        vertical-align: middle;\n",
       "    }\n",
       "\n",
       "    .dataframe tbody tr th {\n",
       "        vertical-align: top;\n",
       "    }\n",
       "\n",
       "    .dataframe thead th {\n",
       "        text-align: right;\n",
       "    }\n",
       "</style>\n",
       "<table border=\"1\" class=\"dataframe\">\n",
       "  <thead>\n",
       "    <tr style=\"text-align: right;\">\n",
       "      <th></th>\n",
       "      <th>fixed acidity</th>\n",
       "      <th>volatile acidity</th>\n",
       "      <th>citric acid</th>\n",
       "      <th>residual sugar</th>\n",
       "      <th>chlorides</th>\n",
       "      <th>free sulfur dioxide</th>\n",
       "      <th>total sulfur dioxide</th>\n",
       "      <th>density</th>\n",
       "      <th>pH</th>\n",
       "      <th>sulphates</th>\n",
       "      <th>alcohol</th>\n",
       "      <th>quality</th>\n",
       "      <th>Id</th>\n",
       "    </tr>\n",
       "  </thead>\n",
       "  <tbody>\n",
       "    <tr>\n",
       "      <th>0</th>\n",
       "      <td>7.4</td>\n",
       "      <td>0.70</td>\n",
       "      <td>0.00</td>\n",
       "      <td>1.9</td>\n",
       "      <td>0.076</td>\n",
       "      <td>11.0</td>\n",
       "      <td>34.0</td>\n",
       "      <td>0.9978</td>\n",
       "      <td>3.51</td>\n",
       "      <td>0.56</td>\n",
       "      <td>9.4</td>\n",
       "      <td>5</td>\n",
       "      <td>0</td>\n",
       "    </tr>\n",
       "    <tr>\n",
       "      <th>1</th>\n",
       "      <td>7.8</td>\n",
       "      <td>0.88</td>\n",
       "      <td>0.00</td>\n",
       "      <td>2.6</td>\n",
       "      <td>0.098</td>\n",
       "      <td>25.0</td>\n",
       "      <td>67.0</td>\n",
       "      <td>0.9968</td>\n",
       "      <td>3.20</td>\n",
       "      <td>0.68</td>\n",
       "      <td>9.8</td>\n",
       "      <td>5</td>\n",
       "      <td>1</td>\n",
       "    </tr>\n",
       "    <tr>\n",
       "      <th>2</th>\n",
       "      <td>7.8</td>\n",
       "      <td>0.76</td>\n",
       "      <td>0.04</td>\n",
       "      <td>2.3</td>\n",
       "      <td>0.092</td>\n",
       "      <td>15.0</td>\n",
       "      <td>54.0</td>\n",
       "      <td>0.9970</td>\n",
       "      <td>3.26</td>\n",
       "      <td>0.65</td>\n",
       "      <td>9.8</td>\n",
       "      <td>5</td>\n",
       "      <td>2</td>\n",
       "    </tr>\n",
       "    <tr>\n",
       "      <th>3</th>\n",
       "      <td>11.2</td>\n",
       "      <td>0.28</td>\n",
       "      <td>0.56</td>\n",
       "      <td>1.9</td>\n",
       "      <td>0.075</td>\n",
       "      <td>17.0</td>\n",
       "      <td>60.0</td>\n",
       "      <td>0.9980</td>\n",
       "      <td>3.16</td>\n",
       "      <td>0.58</td>\n",
       "      <td>9.8</td>\n",
       "      <td>6</td>\n",
       "      <td>3</td>\n",
       "    </tr>\n",
       "    <tr>\n",
       "      <th>4</th>\n",
       "      <td>7.4</td>\n",
       "      <td>0.70</td>\n",
       "      <td>0.00</td>\n",
       "      <td>1.9</td>\n",
       "      <td>0.076</td>\n",
       "      <td>11.0</td>\n",
       "      <td>34.0</td>\n",
       "      <td>0.9978</td>\n",
       "      <td>3.51</td>\n",
       "      <td>0.56</td>\n",
       "      <td>9.4</td>\n",
       "      <td>5</td>\n",
       "      <td>4</td>\n",
       "    </tr>\n",
       "  </tbody>\n",
       "</table>\n",
       "</div>"
      ],
      "text/plain": [
       "   fixed acidity  volatile acidity  citric acid  residual sugar  chlorides  \\\n",
       "0            7.4              0.70         0.00             1.9      0.076   \n",
       "1            7.8              0.88         0.00             2.6      0.098   \n",
       "2            7.8              0.76         0.04             2.3      0.092   \n",
       "3           11.2              0.28         0.56             1.9      0.075   \n",
       "4            7.4              0.70         0.00             1.9      0.076   \n",
       "\n",
       "   free sulfur dioxide  total sulfur dioxide  density    pH  sulphates  \\\n",
       "0                 11.0                  34.0   0.9978  3.51       0.56   \n",
       "1                 25.0                  67.0   0.9968  3.20       0.68   \n",
       "2                 15.0                  54.0   0.9970  3.26       0.65   \n",
       "3                 17.0                  60.0   0.9980  3.16       0.58   \n",
       "4                 11.0                  34.0   0.9978  3.51       0.56   \n",
       "\n",
       "   alcohol  quality  Id  \n",
       "0      9.4        5   0  \n",
       "1      9.8        5   1  \n",
       "2      9.8        5   2  \n",
       "3      9.8        6   3  \n",
       "4      9.4        5   4  "
      ]
     },
     "execution_count": 169,
     "metadata": {},
     "output_type": "execute_result"
    }
   ],
   "source": [
    "data=pd.read_csv(r\"C:\\Users\\USER\\Documents\\Sami's Files\\Outlier Removal\\WineQT.csv\")\n",
    "\n",
    "data.head()\n",
    "# print(len(data))"
   ]
  },
  {
   "cell_type": "markdown",
   "id": "1a27c1d7",
   "metadata": {},
   "source": [
    "                                            First 5 rows of the dataframe"
   ]
  },
  {
   "cell_type": "code",
   "execution_count": 171,
   "id": "7a010099",
   "metadata": {},
   "outputs": [
    {
     "data": {
      "text/plain": [
       "1143"
      ]
     },
     "execution_count": 171,
     "metadata": {},
     "output_type": "execute_result"
    }
   ],
   "source": [
    "len(data)"
   ]
  },
  {
   "cell_type": "markdown",
   "id": "0be2b18e",
   "metadata": {},
   "source": [
    "### Next we will see the statistical summary of the DataFrame"
   ]
  },
  {
   "cell_type": "markdown",
   "id": "f6b9658f",
   "metadata": {},
   "source": [
    "The describe() function in Pandas provides a statistical summary of the DataFrame, including various descriptive statistics such as count, mean, standard deviation, minimum value, 25th percentile (Q1), median (50th percentile or Q2), 75th percentile (Q3), and maximum value for each numerical column in the DataFrame"
   ]
  },
  {
   "cell_type": "code",
   "execution_count": 172,
   "id": "266a3e88",
   "metadata": {},
   "outputs": [
    {
     "data": {
      "text/html": [
       "<div>\n",
       "<style scoped>\n",
       "    .dataframe tbody tr th:only-of-type {\n",
       "        vertical-align: middle;\n",
       "    }\n",
       "\n",
       "    .dataframe tbody tr th {\n",
       "        vertical-align: top;\n",
       "    }\n",
       "\n",
       "    .dataframe thead th {\n",
       "        text-align: right;\n",
       "    }\n",
       "</style>\n",
       "<table border=\"1\" class=\"dataframe\">\n",
       "  <thead>\n",
       "    <tr style=\"text-align: right;\">\n",
       "      <th></th>\n",
       "      <th>fixed acidity</th>\n",
       "      <th>volatile acidity</th>\n",
       "      <th>citric acid</th>\n",
       "      <th>residual sugar</th>\n",
       "      <th>chlorides</th>\n",
       "      <th>free sulfur dioxide</th>\n",
       "      <th>total sulfur dioxide</th>\n",
       "      <th>density</th>\n",
       "      <th>pH</th>\n",
       "      <th>sulphates</th>\n",
       "      <th>alcohol</th>\n",
       "      <th>quality</th>\n",
       "      <th>Id</th>\n",
       "    </tr>\n",
       "  </thead>\n",
       "  <tbody>\n",
       "    <tr>\n",
       "      <th>count</th>\n",
       "      <td>1143.000000</td>\n",
       "      <td>1143.000000</td>\n",
       "      <td>1143.000000</td>\n",
       "      <td>1143.000000</td>\n",
       "      <td>1143.000000</td>\n",
       "      <td>1143.000000</td>\n",
       "      <td>1143.000000</td>\n",
       "      <td>1143.000000</td>\n",
       "      <td>1143.000000</td>\n",
       "      <td>1143.000000</td>\n",
       "      <td>1143.000000</td>\n",
       "      <td>1143.000000</td>\n",
       "      <td>1143.000000</td>\n",
       "    </tr>\n",
       "    <tr>\n",
       "      <th>mean</th>\n",
       "      <td>8.311111</td>\n",
       "      <td>0.531339</td>\n",
       "      <td>0.268364</td>\n",
       "      <td>2.532152</td>\n",
       "      <td>0.086933</td>\n",
       "      <td>15.615486</td>\n",
       "      <td>45.914698</td>\n",
       "      <td>0.996730</td>\n",
       "      <td>3.311015</td>\n",
       "      <td>0.657708</td>\n",
       "      <td>10.442111</td>\n",
       "      <td>5.657043</td>\n",
       "      <td>804.969379</td>\n",
       "    </tr>\n",
       "    <tr>\n",
       "      <th>std</th>\n",
       "      <td>1.747595</td>\n",
       "      <td>0.179633</td>\n",
       "      <td>0.196686</td>\n",
       "      <td>1.355917</td>\n",
       "      <td>0.047267</td>\n",
       "      <td>10.250486</td>\n",
       "      <td>32.782130</td>\n",
       "      <td>0.001925</td>\n",
       "      <td>0.156664</td>\n",
       "      <td>0.170399</td>\n",
       "      <td>1.082196</td>\n",
       "      <td>0.805824</td>\n",
       "      <td>463.997116</td>\n",
       "    </tr>\n",
       "    <tr>\n",
       "      <th>min</th>\n",
       "      <td>4.600000</td>\n",
       "      <td>0.120000</td>\n",
       "      <td>0.000000</td>\n",
       "      <td>0.900000</td>\n",
       "      <td>0.012000</td>\n",
       "      <td>1.000000</td>\n",
       "      <td>6.000000</td>\n",
       "      <td>0.990070</td>\n",
       "      <td>2.740000</td>\n",
       "      <td>0.330000</td>\n",
       "      <td>8.400000</td>\n",
       "      <td>3.000000</td>\n",
       "      <td>0.000000</td>\n",
       "    </tr>\n",
       "    <tr>\n",
       "      <th>25%</th>\n",
       "      <td>7.100000</td>\n",
       "      <td>0.392500</td>\n",
       "      <td>0.090000</td>\n",
       "      <td>1.900000</td>\n",
       "      <td>0.070000</td>\n",
       "      <td>7.000000</td>\n",
       "      <td>21.000000</td>\n",
       "      <td>0.995570</td>\n",
       "      <td>3.205000</td>\n",
       "      <td>0.550000</td>\n",
       "      <td>9.500000</td>\n",
       "      <td>5.000000</td>\n",
       "      <td>411.000000</td>\n",
       "    </tr>\n",
       "    <tr>\n",
       "      <th>50%</th>\n",
       "      <td>7.900000</td>\n",
       "      <td>0.520000</td>\n",
       "      <td>0.250000</td>\n",
       "      <td>2.200000</td>\n",
       "      <td>0.079000</td>\n",
       "      <td>13.000000</td>\n",
       "      <td>37.000000</td>\n",
       "      <td>0.996680</td>\n",
       "      <td>3.310000</td>\n",
       "      <td>0.620000</td>\n",
       "      <td>10.200000</td>\n",
       "      <td>6.000000</td>\n",
       "      <td>794.000000</td>\n",
       "    </tr>\n",
       "    <tr>\n",
       "      <th>75%</th>\n",
       "      <td>9.100000</td>\n",
       "      <td>0.640000</td>\n",
       "      <td>0.420000</td>\n",
       "      <td>2.600000</td>\n",
       "      <td>0.090000</td>\n",
       "      <td>21.000000</td>\n",
       "      <td>61.000000</td>\n",
       "      <td>0.997845</td>\n",
       "      <td>3.400000</td>\n",
       "      <td>0.730000</td>\n",
       "      <td>11.100000</td>\n",
       "      <td>6.000000</td>\n",
       "      <td>1209.500000</td>\n",
       "    </tr>\n",
       "    <tr>\n",
       "      <th>max</th>\n",
       "      <td>15.900000</td>\n",
       "      <td>1.580000</td>\n",
       "      <td>1.000000</td>\n",
       "      <td>15.500000</td>\n",
       "      <td>0.611000</td>\n",
       "      <td>68.000000</td>\n",
       "      <td>289.000000</td>\n",
       "      <td>1.003690</td>\n",
       "      <td>4.010000</td>\n",
       "      <td>2.000000</td>\n",
       "      <td>14.900000</td>\n",
       "      <td>8.000000</td>\n",
       "      <td>1597.000000</td>\n",
       "    </tr>\n",
       "  </tbody>\n",
       "</table>\n",
       "</div>"
      ],
      "text/plain": [
       "       fixed acidity  volatile acidity  citric acid  residual sugar  \\\n",
       "count    1143.000000       1143.000000  1143.000000     1143.000000   \n",
       "mean        8.311111          0.531339     0.268364        2.532152   \n",
       "std         1.747595          0.179633     0.196686        1.355917   \n",
       "min         4.600000          0.120000     0.000000        0.900000   \n",
       "25%         7.100000          0.392500     0.090000        1.900000   \n",
       "50%         7.900000          0.520000     0.250000        2.200000   \n",
       "75%         9.100000          0.640000     0.420000        2.600000   \n",
       "max        15.900000          1.580000     1.000000       15.500000   \n",
       "\n",
       "         chlorides  free sulfur dioxide  total sulfur dioxide      density  \\\n",
       "count  1143.000000          1143.000000           1143.000000  1143.000000   \n",
       "mean      0.086933            15.615486             45.914698     0.996730   \n",
       "std       0.047267            10.250486             32.782130     0.001925   \n",
       "min       0.012000             1.000000              6.000000     0.990070   \n",
       "25%       0.070000             7.000000             21.000000     0.995570   \n",
       "50%       0.079000            13.000000             37.000000     0.996680   \n",
       "75%       0.090000            21.000000             61.000000     0.997845   \n",
       "max       0.611000            68.000000            289.000000     1.003690   \n",
       "\n",
       "                pH    sulphates      alcohol      quality           Id  \n",
       "count  1143.000000  1143.000000  1143.000000  1143.000000  1143.000000  \n",
       "mean      3.311015     0.657708    10.442111     5.657043   804.969379  \n",
       "std       0.156664     0.170399     1.082196     0.805824   463.997116  \n",
       "min       2.740000     0.330000     8.400000     3.000000     0.000000  \n",
       "25%       3.205000     0.550000     9.500000     5.000000   411.000000  \n",
       "50%       3.310000     0.620000    10.200000     6.000000   794.000000  \n",
       "75%       3.400000     0.730000    11.100000     6.000000  1209.500000  \n",
       "max       4.010000     2.000000    14.900000     8.000000  1597.000000  "
      ]
     },
     "execution_count": 172,
     "metadata": {},
     "output_type": "execute_result"
    }
   ],
   "source": [
    "data.describe()"
   ]
  },
  {
   "cell_type": "markdown",
   "id": "4f24d8c6",
   "metadata": {},
   "source": [
    "                                       Statistical summary of the DataFrame"
   ]
  },
  {
   "cell_type": "markdown",
   "id": "88dd8804",
   "metadata": {},
   "source": [
    "#### We will use the residual sugar column to detect and remove the outliers"
   ]
  },
  {
   "cell_type": "markdown",
   "id": "ba1bd757",
   "metadata": {},
   "source": [
    "## Visualize the Data"
   ]
  },
  {
   "cell_type": "markdown",
   "id": "bfd51996",
   "metadata": {},
   "source": [
    "### Next we will plot the data"
   ]
  },
  {
   "cell_type": "code",
   "execution_count": 177,
   "id": "8cad5751",
   "metadata": {},
   "outputs": [
    {
     "data": {
      "image/png": "[encoded data removed]",
      "text/plain": [
       "<Figure size 640x480 with 1 Axes>"
      ]
     },
     "metadata": {},
     "output_type": "display_data"
    }
   ],
   "source": [
    "sns.histplot(data['residual sugar'],kde=True)\n",
    "plt.title('Distribution plot of Residual Sugar colum')\n",
    "plt.show()"
   ]
  },
  {
   "cell_type": "markdown",
   "id": "a20e7bdd",
   "metadata": {},
   "source": [
    " "
   ]
  },
  {
   "cell_type": "markdown",
   "id": "0211d038",
   "metadata": {},
   "source": [
    "This will generate a histogram plot that displays the distribution of values in the 'residual_sugar' column. \n",
    "\n",
    "The plot will include a histogram to visualize the frequency of different values and a smooth curve representing the kernel density estimate"
   ]
  },
  {
   "cell_type": "markdown",
   "id": "1c841532",
   "metadata": {},
   "source": [
    "#### There is a outlier as the plot is completely right skewed"
   ]
  },
  {
   "cell_type": "markdown",
   "id": "b0d1fe74",
   "metadata": {},
   "source": [
    "### Next we will use boxplot to see the outliers clearly"
   ]
  },
  {
   "cell_type": "code",
   "execution_count": 109,
   "id": "6c60233a",
   "metadata": {},
   "outputs": [
    {
     "data": {
      "image/png": "[encoded data removed]",
      "text/plain": [
       "<Figure size 800x600 with 1 Axes>"
      ]
     },
     "metadata": {},
     "output_type": "display_data"
    },
    {
     "data": {
      "text/plain": [
       "<Figure size 640x480 with 0 Axes>"
      ]
     },
     "metadata": {},
     "output_type": "display_data"
    }
   ],
   "source": [
    "# Create the boxplot\n",
    "plt.figure(figsize=(8, 6))\n",
    "sns.boxplot(x=data['residual sugar'])\n",
    "\n",
    "# Rotate the x-axis labels (in case you need it)\n",
    "plt.xticks(rotation=45)\n",
    "\n",
    "plt.title('BoxPlot of Residual Sugar column')\n",
    "# Display the plot\n",
    "\n",
    "plt.show()\n",
    "\n",
    "\n",
    "# Save the plot to a PDF file\n",
    "plt.savefig('boxplot_residual_sugar.pdf', format='pdf')\n",
    "\n",
    "\n"
   ]
  },
  {
   "cell_type": "markdown",
   "id": "292e09e0",
   "metadata": {},
   "source": [
    "The code snippet you provided makes use of the sns.boxplot() function from the Seaborn library to create a box plot for the 'residual sugar' variable in the DataFrame df"
   ]
  },
  {
   "cell_type": "markdown",
   "id": "ce81ac88",
   "metadata": {},
   "source": [
    "The box represents the interquartile range (IQR), with the line inside representing the median. The whiskers extend to the minimum and maximum values within 1.5 times the IQR from the first and third quartiles. Any points outside of the whiskers are considered potential outliers"
   ]
  },
  {
   "cell_type": "markdown",
   "id": "e973f7a9",
   "metadata": {},
   "source": [
    "# Methods to remove Outliers"
   ]
  },
  {
   "cell_type": "markdown",
   "id": "38291f7a",
   "metadata": {},
   "source": [
    "### There are different methods using which we can remove outliers. Let us see few of them"
   ]
  },
  {
   "cell_type": "markdown",
   "id": "be9f5977",
   "metadata": {},
   "source": [
    "# Z-Score Method\n",
    "\n",
    "The z-score method is a statistical technique used to detect outliers by measuring how many standard deviations a data point is away from the mean. A z-score tells you how relatively far a data point is from the mean in terms of standard deviations"
   ]
  },
  {
   "cell_type": "markdown",
   "id": "23c020a7",
   "metadata": {},
   "source": [
    "### First we will get the upper and lower limits"
   ]
  },
  {
   "cell_type": "code",
   "execution_count": 178,
   "id": "eea14dd2",
   "metadata": {},
   "outputs": [
    {
     "name": "stdout",
     "output_type": "stream",
     "text": [
      "upper limit: 6.5999046310191565\n",
      "lower limit: -1.5356001690768997\n"
     ]
    }
   ],
   "source": [
    "# Calculate the mean and standard deviation\n",
    "mean_value = data['residual sugar'].mean()\n",
    "std_dev = data['residual sugar'].std()\n",
    "\n",
    "# Calculate the upper and lower limits\n",
    "upper_limit = mean_value + 3 * std_dev\n",
    "lower_limit = mean_value - 3 * std_dev\n",
    "\n",
    "# print('upper limit:', upper_limit)\n",
    "# print('lower limit:', lower_limit)"
   ]
  },
  {
   "cell_type": "code",
   "execution_count": null,
   "id": "c09ce1c3",
   "metadata": {},
   "outputs": [],
   "source": []
  },
  {
   "cell_type": "markdown",
   "id": "1888b8f2",
   "metadata": {},
   "source": [
    "This code snippet calculates the upper limit as the mean plus three times the standard deviation (mean + 3 * std) and the lower limit as the mean minus three times the standard deviation (mean - 3 * std)\n",
    "\n",
    "\n",
    "These limits define a range beyond which data points are considered outliers based on the z-score method"
   ]
  },
  {
   "cell_type": "code",
   "execution_count": 179,
   "id": "ebeadb14",
   "metadata": {},
   "outputs": [
    {
     "name": "stdout",
     "output_type": "stream",
     "text": [
      "upper limit: 6.5999046310191565\n",
      "lower limit: -1.5356001690768997\n"
     ]
    }
   ],
   "source": [
    "print('upper limit:', upper_limit)\n",
    "print('lower limit:', lower_limit)"
   ]
  },
  {
   "cell_type": "markdown",
   "id": "c58c1e72",
   "metadata": {},
   "source": [
    "This is the possible upper and lower limit that we can consider"
   ]
  },
  {
   "cell_type": "markdown",
   "id": "3335d938",
   "metadata": {},
   "source": [
    "### Next let us find outliers using the limits"
   ]
  },
  {
   "cell_type": "code",
   "execution_count": 111,
   "id": "b8d17b64",
   "metadata": {},
   "outputs": [],
   "source": [
    "# Find outliers\n",
    "\n",
    "data.loc[(data['residual sugar'] > upper_limit) | (data['residual sugar'] < lower_limit)].head()"
   ]
  },
  {
   "cell_type": "code",
   "execution_count": null,
   "id": "6e94754c",
   "metadata": {},
   "outputs": [],
   "source": []
  },
  {
   "cell_type": "markdown",
   "id": "f5f4365f",
   "metadata": {},
   "source": [
    "## OR"
   ]
  },
  {
   "cell_type": "code",
   "execution_count": 113,
   "id": "8a2103fb",
   "metadata": {},
   "outputs": [
    {
     "data": {
      "text/html": [
       "<div>\n",
       "<style scoped>\n",
       "    .dataframe tbody tr th:only-of-type {\n",
       "        vertical-align: middle;\n",
       "    }\n",
       "\n",
       "    .dataframe tbody tr th {\n",
       "        vertical-align: top;\n",
       "    }\n",
       "\n",
       "    .dataframe thead th {\n",
       "        text-align: right;\n",
       "    }\n",
       "</style>\n",
       "<table border=\"1\" class=\"dataframe\">\n",
       "  <thead>\n",
       "    <tr style=\"text-align: right;\">\n",
       "      <th></th>\n",
       "      <th>fixed acidity</th>\n",
       "      <th>volatile acidity</th>\n",
       "      <th>citric acid</th>\n",
       "      <th>residual sugar</th>\n",
       "      <th>chlorides</th>\n",
       "      <th>free sulfur dioxide</th>\n",
       "      <th>total sulfur dioxide</th>\n",
       "      <th>density</th>\n",
       "      <th>pH</th>\n",
       "      <th>sulphates</th>\n",
       "      <th>alcohol</th>\n",
       "      <th>quality</th>\n",
       "      <th>Id</th>\n",
       "    </tr>\n",
       "  </thead>\n",
       "  <tbody>\n",
       "    <tr>\n",
       "      <th>114</th>\n",
       "      <td>7.4</td>\n",
       "      <td>0.600</td>\n",
       "      <td>0.26</td>\n",
       "      <td>7.3</td>\n",
       "      <td>0.070</td>\n",
       "      <td>36.0</td>\n",
       "      <td>121.0</td>\n",
       "      <td>0.9982</td>\n",
       "      <td>3.37</td>\n",
       "      <td>0.49</td>\n",
       "      <td>9.4</td>\n",
       "      <td>5</td>\n",
       "      <td>163</td>\n",
       "    </tr>\n",
       "    <tr>\n",
       "      <th>115</th>\n",
       "      <td>7.3</td>\n",
       "      <td>0.590</td>\n",
       "      <td>0.26</td>\n",
       "      <td>7.2</td>\n",
       "      <td>0.070</td>\n",
       "      <td>35.0</td>\n",
       "      <td>121.0</td>\n",
       "      <td>0.9981</td>\n",
       "      <td>3.37</td>\n",
       "      <td>0.49</td>\n",
       "      <td>9.4</td>\n",
       "      <td>5</td>\n",
       "      <td>164</td>\n",
       "    </tr>\n",
       "    <tr>\n",
       "      <th>230</th>\n",
       "      <td>10.0</td>\n",
       "      <td>0.490</td>\n",
       "      <td>0.20</td>\n",
       "      <td>11.0</td>\n",
       "      <td>0.071</td>\n",
       "      <td>13.0</td>\n",
       "      <td>50.0</td>\n",
       "      <td>1.0015</td>\n",
       "      <td>3.16</td>\n",
       "      <td>0.69</td>\n",
       "      <td>9.2</td>\n",
       "      <td>6</td>\n",
       "      <td>324</td>\n",
       "    </tr>\n",
       "    <tr>\n",
       "      <th>231</th>\n",
       "      <td>10.0</td>\n",
       "      <td>0.490</td>\n",
       "      <td>0.20</td>\n",
       "      <td>11.0</td>\n",
       "      <td>0.071</td>\n",
       "      <td>13.0</td>\n",
       "      <td>50.0</td>\n",
       "      <td>1.0015</td>\n",
       "      <td>3.16</td>\n",
       "      <td>0.69</td>\n",
       "      <td>9.2</td>\n",
       "      <td>6</td>\n",
       "      <td>325</td>\n",
       "    </tr>\n",
       "    <tr>\n",
       "      <th>275</th>\n",
       "      <td>6.6</td>\n",
       "      <td>0.735</td>\n",
       "      <td>0.02</td>\n",
       "      <td>7.9</td>\n",
       "      <td>0.122</td>\n",
       "      <td>68.0</td>\n",
       "      <td>124.0</td>\n",
       "      <td>0.9994</td>\n",
       "      <td>3.47</td>\n",
       "      <td>0.53</td>\n",
       "      <td>9.9</td>\n",
       "      <td>5</td>\n",
       "      <td>396</td>\n",
       "    </tr>\n",
       "  </tbody>\n",
       "</table>\n",
       "</div>"
      ],
      "text/plain": [
       "     fixed acidity  volatile acidity  citric acid  residual sugar  chlorides  \\\n",
       "114            7.4             0.600         0.26             7.3      0.070   \n",
       "115            7.3             0.590         0.26             7.2      0.070   \n",
       "230           10.0             0.490         0.20            11.0      0.071   \n",
       "231           10.0             0.490         0.20            11.0      0.071   \n",
       "275            6.6             0.735         0.02             7.9      0.122   \n",
       "\n",
       "     free sulfur dioxide  total sulfur dioxide  density    pH  sulphates  \\\n",
       "114                 36.0                 121.0   0.9982  3.37       0.49   \n",
       "115                 35.0                 121.0   0.9981  3.37       0.49   \n",
       "230                 13.0                  50.0   1.0015  3.16       0.69   \n",
       "231                 13.0                  50.0   1.0015  3.16       0.69   \n",
       "275                 68.0                 124.0   0.9994  3.47       0.53   \n",
       "\n",
       "     alcohol  quality   Id  \n",
       "114      9.4        5  163  \n",
       "115      9.4        5  164  \n",
       "230      9.2        6  324  \n",
       "231      9.2        6  325  \n",
       "275      9.9        5  396  "
      ]
     },
     "execution_count": 113,
     "metadata": {},
     "output_type": "execute_result"
    }
   ],
   "source": [
    "outliers = data[(data['residual sugar'] > upper_limit) | (data['residual sugar'] < lower_limit)]"
   ]
  },
  {
   "cell_type": "markdown",
   "id": "37cd52dc",
   "metadata": {},
   "source": [
    "                                               Dataframe with outliers"
   ]
  },
  {
   "cell_type": "markdown",
   "id": "639070f1",
   "metadata": {},
   "source": [
    "The code snippet uses the upper and lower limits calculated earlier to identify outliers in the 'residual sugar' column of the DataFrame df. It uses boolean indexing to filter the DataFrame and select rows where the 'residual sugar' values are outside the calculated limits\n",
    "\n",
    "The .loc[] method is used to access the rows in df that meet the specified condition\n",
    "\n",
    "The condition (df['residual sugar'] > upper_limit) | (df['residual sugar'] < lower_limit) checks whether the 'residual sugar' values are greater than the upper limit or less than the lower limit, indicating outliers.\n",
    "\n",
    "The resulting DataFrame outliers will contain only the rows where outliers are present in the 'residual sugar' column"
   ]
  },
  {
   "cell_type": "markdown",
   "id": "ed4baebe",
   "metadata": {},
   "source": [
    "### Next we will trim the outliers. \n",
    "\n",
    "Trimming is a data transformation technique where outliers are removed or \"trimmed\" from the dataset, rather than replacing or imputing their values. Trimming involves setting a threshold or cutoff value, and any data points exceeding this threshold are removed from the dataset"
   ]
  },
  {
   "cell_type": "code",
   "execution_count": 191,
   "id": "e265a9f2",
   "metadata": {},
   "outputs": [
    {
     "name": "stdout",
     "output_type": "stream",
     "text": [
      "before removing outliers: 1143\n",
      "after removing outliers: 1120\n",
      "outliers: 23\n"
     ]
    }
   ],
   "source": [
    "# Find and remove outliers\n",
    "revised_trim = data.loc[(data['residual sugar'] <= upper_limit) & (data['residual sugar'] >= lower_limit)]\n",
    "\n",
    "print('before removing outliers:', len(data))\n",
    "print('after removing outliers:', len(revised_trim))\n",
    "print('outliers:', len(data) - len(revised_trim))"
   ]
  },
  {
   "cell_type": "markdown",
   "id": "6d156af6",
   "metadata": {},
   "source": [
    "### Next let us plot the data after trimming outliers"
   ]
  },
  {
   "cell_type": "code",
   "execution_count": 192,
   "id": "379f3032",
   "metadata": {},
   "outputs": [
    {
     "data": {
      "image/png": "[encoded data removed]",
      "text/plain": [
       "<Figure size 800x600 with 1 Axes>"
      ]
     },
     "metadata": {},
     "output_type": "display_data"
    }
   ],
   "source": [
    "# Plot the data after trimming outliers\n",
    "\n",
    "plt.figure(figsize=(8, 6))\n",
    "sns.boxplot(data=revised_trim, x=revised_data['residual sugar'])\n",
    "plt.title('Boxplot of Residual Sugar After Removing Outliers')\n",
    "plt.ylabel('Residual Sugar')\n",
    "plt.xticks(rotation=45)  # Rotate x-axis labels if needed\n",
    "plt.show()\n"
   ]
  },
  {
   "cell_type": "markdown",
   "id": "19941367",
   "metadata": {},
   "source": [
    "## Next we will perform capping"
   ]
  },
  {
   "cell_type": "markdown",
   "id": "a64d072a",
   "metadata": {},
   "source": [
    "### Capping, also known as Winsorization, is a technique used to handle outliers by setting a threshold and capping or truncating extreme values to a specified percentile. Capping involves replacing outlier values with less extreme values, thus reducing the impact of outliers on the dataset without entirely removing them"
   ]
  },
  {
   "cell_type": "code",
   "execution_count": 227,
   "id": "f8d7dc35",
   "metadata": {},
   "outputs": [],
   "source": [
    "#Capping - change the outlier values to upper limit (or) lower  limit values\n",
    "\n",
    "# upper limit: 6.59\n",
    "# lower limit: -1.53\n",
    "\n",
    "\n",
    "data2 = data.copy()\n",
    "\n",
    "\n",
    "data2.loc[(data2['residual sugar']>=upper_limit), 'residual sugar']= upper_limit\n",
    "\n",
    "data2.loc[(data2['residual sugar']<=lower_limit), 'residual sugar'] = lower_limit\n",
    "\n"
   ]
  },
  {
   "cell_type": "markdown",
   "id": "e0360b43",
   "metadata": {},
   "source": [
    "#### You are performing capping by changing the outlier values in the 'residual sugar' column of the DataFrame df to the upper or lower limit values.\n",
    "\n",
    "#### The DataFrame new_df is created as a copy of the original DataFrame df, and the outlier values are replaced accordingly.\n",
    "\n",
    "#### new_df is created as a copy of df. The upper_limit and lower_limit values are calculated using the mean and standard deviation of the 'residual sugar' column.\n",
    "\n",
    "#### The .loc[] method is then used to identify the rows where the 'residual sugar' values exceed the upper limit or fall below the lower .\n",
    "\n",
    "#### The corresponding outlier values are replaced with the upper or lower limit values using the assignment statement.\n",
    "\n",
    "#### By performing capping in this way, the outlier values in the 'residual sugar' column are replaced with the specified upper or lower limit values, effectively bringing them within the desired range"
   ]
  },
  {
   "cell_type": "markdown",
   "id": "d14797af",
   "metadata": {},
   "source": [
    "### Next let us plot the data after performing capping"
   ]
  },
  {
   "cell_type": "code",
   "execution_count": 228,
   "id": "9c833593",
   "metadata": {},
   "outputs": [
    {
     "data": {
      "image/png": "[encoded data removed]",
      "text/plain": [
       "<Figure size 800x600 with 1 Axes>"
      ]
     },
     "metadata": {},
     "output_type": "display_data"
    }
   ],
   "source": [
    "plt.figure(figsize=(8, 6))\n",
    "sns.boxplot(x=data2['residual sugar'])\n",
    "plt.title('Boxplot of residual sugar column after removing outliers')\n",
    "plt.show()"
   ]
  },
  {
   "cell_type": "markdown",
   "id": "0b160323",
   "metadata": {},
   "source": [
    "Here we have not deleted any of the data rather we have capped it . We can check by printing the length of data"
   ]
  },
  {
   "cell_type": "code",
   "execution_count": 128,
   "id": "b8a6f7d7",
   "metadata": {},
   "outputs": [
    {
     "data": {
      "text/plain": [
       "1143"
      ]
     },
     "execution_count": 128,
     "metadata": {},
     "output_type": "execute_result"
    }
   ],
   "source": [
    "len(data2)"
   ]
  },
  {
   "cell_type": "markdown",
   "id": "8e8945de",
   "metadata": {},
   "source": [
    "We can see that length of new dataframe is 1143 which is same as the old dataframe"
   ]
  },
  {
   "cell_type": "markdown",
   "id": "05f513ec",
   "metadata": {},
   "source": [
    "             "
   ]
  },
  {
   "cell_type": "markdown",
   "id": "a3484156",
   "metadata": {},
   "source": [
    "# Inter Quartile Range Method"
   ]
  },
  {
   "cell_type": "markdown",
   "id": "a2fd2b5d",
   "metadata": {},
   "source": [
    "The Interquartile Range (IQR) method is another statistical technique used to detect and handle outliers in a dataset. The IQR represents the range between the first quartile (Q1) and the third quartile (Q3) of a dataset"
   ]
  },
  {
   "cell_type": "markdown",
   "id": "6edcdac8",
   "metadata": {},
   "source": [
    "### First let us calculate the first quartile (Q1), third quartile (Q3), and interquartile range (IQR) of the 'residual sugar' column in the DataFrame df"
   ]
  },
  {
   "cell_type": "code",
   "execution_count": 229,
   "id": "d1b57ce3",
   "metadata": {},
   "outputs": [
    {
     "name": "stdout",
     "output_type": "stream",
     "text": [
      "First Quartile (Q1): 1.9\n",
      "Third Quartile (Q3): 2.6\n",
      "Interquartile Range (IQR): 0.7000000000000002\n"
     ]
    }
   ],
   "source": [
    "# Calculate the first quartile (Q1)\n",
    "q1 = data['residual sugar'].quantile(0.25)\n",
    "\n",
    "# Calculate the third quartile (Q3)\n",
    "q3 = data['residual sugar'].quantile(0.75)\n",
    "\n",
    "# Calculate the interquartile range (IQR)\n",
    "iqr = q3 - q1\n",
    "\n",
    "print('First Quartile (Q1):', q1)\n",
    "print('Third Quartile (Q3):', q3)\n",
    "print('Interquartile Range (IQR):', iqr)"
   ]
  },
  {
   "cell_type": "markdown",
   "id": "92b74d45",
   "metadata": {},
   "source": [
    "    "
   ]
  },
  {
   "cell_type": "markdown",
   "id": "e60e4ff0",
   "metadata": {},
   "source": [
    "In this code, q1 is calculated as the value at the 25th percentile (first quartile) of the 'residual sugar' column using the .quantile() function with a parameter of 0.25\n",
    "Similarly, q3 is calculated as the value at the 75th percentile (third quartile)\n",
    "\n",
    "Finally, iqr is computed as the difference between q3 and q1, representing the interquartile ra\n",
    "\n",
    "By calculating the Q1, Q3, and IQR, you obtain important descriptive statistics that can help in understanding the spread and distribution of the 'residual sugar' data. \n",
    "\n",
    "These values are commonly used in the Interquartile Range (IQR) method for outlier detection and other data analysis techniques"
   ]
  },
  {
   "cell_type": "code",
   "execution_count": 230,
   "id": "40700402",
   "metadata": {},
   "outputs": [
    {
     "data": {
      "text/plain": [
       "(1.9, 2.6, 0.7000000000000002)"
      ]
     },
     "execution_count": 230,
     "metadata": {},
     "output_type": "execute_result"
    }
   ],
   "source": [
    "q1, q3, iqr"
   ]
  },
  {
   "cell_type": "markdown",
   "id": "46a66221",
   "metadata": {},
   "source": [
    "These are the values of Q1, Q3, and IQR for the 'residual sugar' data in your DataFrame"
   ]
  },
  {
   "cell_type": "markdown",
   "id": "4b3f7612",
   "metadata": {},
   "source": [
    "### Next let us calculate the upper and lower limit using the Interquartile Range (IQR) method"
   ]
  },
  {
   "cell_type": "code",
   "execution_count": 154,
   "id": "70be7a7c",
   "metadata": {},
   "outputs": [
    {
     "data": {
      "text/plain": [
       "(0.8499999999999996, 3.6500000000000004)"
      ]
     },
     "execution_count": 154,
     "metadata": {},
     "output_type": "execute_result"
    }
   ],
   "source": [
    "upper_limit = q3 + (1.5 * iqr)\n",
    "lower_limit = q1 - (1.5 * iqr)\n",
    "lower_limit, upper_limit"
   ]
  },
  {
   "cell_type": "markdown",
   "id": "a9896676",
   "metadata": {},
   "source": [
    "upper_limit is computed by adding 1.5 times the IQR to Q3 (q3 + (1.5 * iqr)), while"
   ]
  },
  {
   "cell_type": "markdown",
   "id": "c722483e",
   "metadata": {},
   "source": [
    "lower_limit is calculated by subtracting 1.5 times the IQR from Q1 (q1 - (1.5 * iqr))"
   ]
  },
  {
   "cell_type": "markdown",
   "id": "97de045a",
   "metadata": {},
   "source": [
    "By printing these values, you can obtain the specific lower and upper limits that define the range within which data points are considered non-outliers according to the IQR method"
   ]
  },
  {
   "cell_type": "markdown",
   "id": "7edf9cfa",
   "metadata": {},
   "source": [
    "(0.8499999999999996, 3.6500000000000004)"
   ]
  },
  {
   "cell_type": "markdown",
   "id": "18a50fce",
   "metadata": {},
   "source": [
    "### Next let us plot the data"
   ]
  },
  {
   "cell_type": "code",
   "execution_count": 233,
   "id": "b2c8bcc0",
   "metadata": {},
   "outputs": [
    {
     "data": {
      "image/png": "[encoded data removed]",
      "text/plain": [
       "<Figure size 800x600 with 1 Axes>"
      ]
     },
     "metadata": {},
     "output_type": "display_data"
    }
   ],
   "source": [
    "plt.figure(figsize=(8, 6))\n",
    "sns.boxplot(data=data,x=data['residual sugar'])\n",
    "plt.title('Box plot of residual sugar column with outliers')\n",
    "plt.show()"
   ]
  },
  {
   "cell_type": "markdown",
   "id": "7e57eed0",
   "metadata": {},
   "source": [
    "### Next we will find the outliers using upper and lower limit calculated earlier"
   ]
  },
  {
   "cell_type": "code",
   "execution_count": 157,
   "id": "d9ed37a0",
   "metadata": {},
   "outputs": [
    {
     "data": {
      "text/html": [
       "<div>\n",
       "<style scoped>\n",
       "    .dataframe tbody tr th:only-of-type {\n",
       "        vertical-align: middle;\n",
       "    }\n",
       "\n",
       "    .dataframe tbody tr th {\n",
       "        vertical-align: top;\n",
       "    }\n",
       "\n",
       "    .dataframe thead th {\n",
       "        text-align: right;\n",
       "    }\n",
       "</style>\n",
       "<table border=\"1\" class=\"dataframe\">\n",
       "  <thead>\n",
       "    <tr style=\"text-align: right;\">\n",
       "      <th></th>\n",
       "      <th>fixed acidity</th>\n",
       "      <th>volatile acidity</th>\n",
       "      <th>citric acid</th>\n",
       "      <th>residual sugar</th>\n",
       "      <th>chlorides</th>\n",
       "      <th>free sulfur dioxide</th>\n",
       "      <th>total sulfur dioxide</th>\n",
       "      <th>density</th>\n",
       "      <th>pH</th>\n",
       "      <th>sulphates</th>\n",
       "      <th>alcohol</th>\n",
       "      <th>quality</th>\n",
       "      <th>Id</th>\n",
       "    </tr>\n",
       "  </thead>\n",
       "  <tbody>\n",
       "    <tr>\n",
       "      <th>25</th>\n",
       "      <td>7.8</td>\n",
       "      <td>0.645</td>\n",
       "      <td>0.00</td>\n",
       "      <td>5.50</td>\n",
       "      <td>0.086</td>\n",
       "      <td>5.0</td>\n",
       "      <td>18.0</td>\n",
       "      <td>0.99860</td>\n",
       "      <td>3.40</td>\n",
       "      <td>0.55</td>\n",
       "      <td>9.60</td>\n",
       "      <td>6</td>\n",
       "      <td>35</td>\n",
       "    </tr>\n",
       "    <tr>\n",
       "      <th>28</th>\n",
       "      <td>7.3</td>\n",
       "      <td>0.450</td>\n",
       "      <td>0.36</td>\n",
       "      <td>5.90</td>\n",
       "      <td>0.074</td>\n",
       "      <td>12.0</td>\n",
       "      <td>87.0</td>\n",
       "      <td>0.99780</td>\n",
       "      <td>3.33</td>\n",
       "      <td>0.83</td>\n",
       "      <td>10.50</td>\n",
       "      <td>5</td>\n",
       "      <td>40</td>\n",
       "    </tr>\n",
       "    <tr>\n",
       "      <th>45</th>\n",
       "      <td>7.2</td>\n",
       "      <td>0.725</td>\n",
       "      <td>0.05</td>\n",
       "      <td>4.65</td>\n",
       "      <td>0.086</td>\n",
       "      <td>4.0</td>\n",
       "      <td>11.0</td>\n",
       "      <td>0.99620</td>\n",
       "      <td>3.41</td>\n",
       "      <td>0.39</td>\n",
       "      <td>10.90</td>\n",
       "      <td>5</td>\n",
       "      <td>64</td>\n",
       "    </tr>\n",
       "    <tr>\n",
       "      <th>46</th>\n",
       "      <td>7.2</td>\n",
       "      <td>0.725</td>\n",
       "      <td>0.05</td>\n",
       "      <td>4.65</td>\n",
       "      <td>0.086</td>\n",
       "      <td>4.0</td>\n",
       "      <td>11.0</td>\n",
       "      <td>0.99620</td>\n",
       "      <td>3.41</td>\n",
       "      <td>0.39</td>\n",
       "      <td>10.90</td>\n",
       "      <td>5</td>\n",
       "      <td>65</td>\n",
       "    </tr>\n",
       "    <tr>\n",
       "      <th>106</th>\n",
       "      <td>7.1</td>\n",
       "      <td>0.430</td>\n",
       "      <td>0.42</td>\n",
       "      <td>5.50</td>\n",
       "      <td>0.071</td>\n",
       "      <td>28.0</td>\n",
       "      <td>128.0</td>\n",
       "      <td>0.99730</td>\n",
       "      <td>3.42</td>\n",
       "      <td>0.71</td>\n",
       "      <td>10.50</td>\n",
       "      <td>5</td>\n",
       "      <td>155</td>\n",
       "    </tr>\n",
       "    <tr>\n",
       "      <th>...</th>\n",
       "      <td>...</td>\n",
       "      <td>...</td>\n",
       "      <td>...</td>\n",
       "      <td>...</td>\n",
       "      <td>...</td>\n",
       "      <td>...</td>\n",
       "      <td>...</td>\n",
       "      <td>...</td>\n",
       "      <td>...</td>\n",
       "      <td>...</td>\n",
       "      <td>...</td>\n",
       "      <td>...</td>\n",
       "      <td>...</td>\n",
       "    </tr>\n",
       "    <tr>\n",
       "      <th>1082</th>\n",
       "      <td>6.9</td>\n",
       "      <td>0.840</td>\n",
       "      <td>0.21</td>\n",
       "      <td>4.10</td>\n",
       "      <td>0.074</td>\n",
       "      <td>16.0</td>\n",
       "      <td>65.0</td>\n",
       "      <td>0.99842</td>\n",
       "      <td>3.53</td>\n",
       "      <td>0.72</td>\n",
       "      <td>9.25</td>\n",
       "      <td>6</td>\n",
       "      <td>1515</td>\n",
       "    </tr>\n",
       "    <tr>\n",
       "      <th>1099</th>\n",
       "      <td>6.2</td>\n",
       "      <td>0.520</td>\n",
       "      <td>0.08</td>\n",
       "      <td>4.40</td>\n",
       "      <td>0.071</td>\n",
       "      <td>11.0</td>\n",
       "      <td>32.0</td>\n",
       "      <td>0.99646</td>\n",
       "      <td>3.56</td>\n",
       "      <td>0.63</td>\n",
       "      <td>11.60</td>\n",
       "      <td>6</td>\n",
       "      <td>1540</td>\n",
       "    </tr>\n",
       "    <tr>\n",
       "      <th>1106</th>\n",
       "      <td>6.3</td>\n",
       "      <td>0.680</td>\n",
       "      <td>0.01</td>\n",
       "      <td>3.70</td>\n",
       "      <td>0.103</td>\n",
       "      <td>32.0</td>\n",
       "      <td>54.0</td>\n",
       "      <td>0.99586</td>\n",
       "      <td>3.51</td>\n",
       "      <td>0.66</td>\n",
       "      <td>11.30</td>\n",
       "      <td>6</td>\n",
       "      <td>1552</td>\n",
       "    </tr>\n",
       "    <tr>\n",
       "      <th>1111</th>\n",
       "      <td>6.9</td>\n",
       "      <td>0.630</td>\n",
       "      <td>0.33</td>\n",
       "      <td>6.70</td>\n",
       "      <td>0.235</td>\n",
       "      <td>66.0</td>\n",
       "      <td>115.0</td>\n",
       "      <td>0.99787</td>\n",
       "      <td>3.22</td>\n",
       "      <td>0.56</td>\n",
       "      <td>9.50</td>\n",
       "      <td>5</td>\n",
       "      <td>1558</td>\n",
       "    </tr>\n",
       "    <tr>\n",
       "      <th>1128</th>\n",
       "      <td>6.2</td>\n",
       "      <td>0.700</td>\n",
       "      <td>0.15</td>\n",
       "      <td>5.10</td>\n",
       "      <td>0.076</td>\n",
       "      <td>13.0</td>\n",
       "      <td>27.0</td>\n",
       "      <td>0.99622</td>\n",
       "      <td>3.54</td>\n",
       "      <td>0.60</td>\n",
       "      <td>11.90</td>\n",
       "      <td>6</td>\n",
       "      <td>1577</td>\n",
       "    </tr>\n",
       "  </tbody>\n",
       "</table>\n",
       "<p>110 rows × 13 columns</p>\n",
       "</div>"
      ],
      "text/plain": [
       "      fixed acidity  volatile acidity  citric acid  residual sugar  chlorides  \\\n",
       "25              7.8             0.645         0.00            5.50      0.086   \n",
       "28              7.3             0.450         0.36            5.90      0.074   \n",
       "45              7.2             0.725         0.05            4.65      0.086   \n",
       "46              7.2             0.725         0.05            4.65      0.086   \n",
       "106             7.1             0.430         0.42            5.50      0.071   \n",
       "...             ...               ...          ...             ...        ...   \n",
       "1082            6.9             0.840         0.21            4.10      0.074   \n",
       "1099            6.2             0.520         0.08            4.40      0.071   \n",
       "1106            6.3             0.680         0.01            3.70      0.103   \n",
       "1111            6.9             0.630         0.33            6.70      0.235   \n",
       "1128            6.2             0.700         0.15            5.10      0.076   \n",
       "\n",
       "      free sulfur dioxide  total sulfur dioxide  density    pH  sulphates  \\\n",
       "25                    5.0                  18.0  0.99860  3.40       0.55   \n",
       "28                   12.0                  87.0  0.99780  3.33       0.83   \n",
       "45                    4.0                  11.0  0.99620  3.41       0.39   \n",
       "46                    4.0                  11.0  0.99620  3.41       0.39   \n",
       "106                  28.0                 128.0  0.99730  3.42       0.71   \n",
       "...                   ...                   ...      ...   ...        ...   \n",
       "1082                 16.0                  65.0  0.99842  3.53       0.72   \n",
       "1099                 11.0                  32.0  0.99646  3.56       0.63   \n",
       "1106                 32.0                  54.0  0.99586  3.51       0.66   \n",
       "1111                 66.0                 115.0  0.99787  3.22       0.56   \n",
       "1128                 13.0                  27.0  0.99622  3.54       0.60   \n",
       "\n",
       "      alcohol  quality    Id  \n",
       "25       9.60        6    35  \n",
       "28      10.50        5    40  \n",
       "45      10.90        5    64  \n",
       "46      10.90        5    65  \n",
       "106     10.50        5   155  \n",
       "...       ...      ...   ...  \n",
       "1082     9.25        6  1515  \n",
       "1099    11.60        6  1540  \n",
       "1106    11.30        6  1552  \n",
       "1111     9.50        5  1558  \n",
       "1128    11.90        6  1577  \n",
       "\n",
       "[110 rows x 13 columns]"
      ]
     },
     "execution_count": 157,
     "metadata": {},
     "output_type": "execute_result"
    }
   ],
   "source": [
    "# find the outliers\n",
    "\n",
    "data.loc[(data['residual sugar'] > upper_limit) | (data['residual sugar'] < lower_limit)]"
   ]
  },
  {
   "cell_type": "markdown",
   "id": "8e45ca16",
   "metadata": {},
   "source": [
    "                                Dataframe with outliers"
   ]
  },
  {
   "cell_type": "markdown",
   "id": "17daff20",
   "metadata": {},
   "source": [
    "### Next let us perform trimming of the outliers"
   ]
  },
  {
   "cell_type": "code",
   "execution_count": 235,
   "id": "d39e8c7c",
   "metadata": {},
   "outputs": [
    {
     "name": "stdout",
     "output_type": "stream",
     "text": [
      "before removing outliers: 1143\n",
      "after removing outliers: 1120\n",
      "outliers: 23\n"
     ]
    }
   ],
   "source": [
    "# trimming - delete the outlier data\n",
    "data3 = data.loc[(data['residual sugar'] <= upper_limit) & (data['residual sugar'] >= lower_limit)]\n",
    "print('before removing outliers:', len(data))\n",
    "print('after removing outliers:',len(data3))\n",
    "print('outliers:', len(data)-len(data3))"
   ]
  },
  {
   "cell_type": "markdown",
   "id": "c3d07069",
   "metadata": {},
   "source": [
    "The code snippet performs outlier removal using the calculated upper and lower limits based on the Interquartile Range (IQR) method. It creates a new DataFrame named new_df that includes only the rows with 'residual sugar' values within the calculated limits.\n",
    "\n",
    "\n",
    "By printing the lengths of df and new_df, you can see the number of rows in the DataFrame before and after removing outliers. Additionally, the difference in lengths (len(df) - len(new_df)) gives you the count of outliers that were removed."
   ]
  },
  {
   "cell_type": "markdown",
   "id": "ad9e39ba",
   "metadata": {},
   "source": [
    "Count of dataframe before and after removing outliers using Inter Quartile Range Method"
   ]
  },
  {
   "cell_type": "markdown",
   "id": "4dddd632",
   "metadata": {},
   "source": [
    "### Next let us plot the data after trimming outliers"
   ]
  },
  {
   "cell_type": "code",
   "execution_count": 236,
   "id": "ebbc38a5",
   "metadata": {},
   "outputs": [
    {
     "data": {
      "image/png": "[encoded data removed]",
      "text/plain": [
       "<Figure size 640x480 with 1 Axes>"
      ]
     },
     "metadata": {},
     "output_type": "display_data"
    }
   ],
   "source": [
    "sns.boxplot(data=data2,x=data2['residual sugar'])\n",
    "plt.title('Boxplot of residual sugar column after trimming')\n",
    "plt.show()\n",
    "\n"
   ]
  },
  {
   "cell_type": "markdown",
   "id": "35e81bc2",
   "metadata": {},
   "source": [
    "### Next let us perform capping of the outliers"
   ]
  },
  {
   "cell_type": "code",
   "execution_count": 238,
   "id": "5731e819",
   "metadata": {},
   "outputs": [],
   "source": [
    "#capping - change the outlier values to upper (or) lower limit values\n",
    "\n",
    "data2 = data.copy()\n",
    "data2.loc[(data2['residual sugar']>upper_limit), 'residual sugar'] = upper_limit\n",
    "data2.loc[(data2['residual sugar']<lower_limit), 'residual sugar'] = lower_limit"
   ]
  },
  {
   "cell_type": "markdown",
   "id": "0b7b3395",
   "metadata": {},
   "source": [
    "The code snippet performs capping by replacing the outlier values in the 'residual sugar' column of the DataFrame df with the upper or lower limit values. The DataFrame new_df is created as a copy of the original DataFrame df, and the outlier values are modified accordingly     "
   ]
  },
  {
   "cell_type": "markdown",
   "id": "7214709f",
   "metadata": {},
   "source": [
    "### Next let us plot the data after performing capping"
   ]
  },
  {
   "cell_type": "code",
   "execution_count": 243,
   "id": "e8527bcc",
   "metadata": {},
   "outputs": [
    {
     "data": {
      "text/plain": [
       "Text(0.5, 1.0, 'Boxplot of residual sugar column after capping')"
      ]
     },
     "execution_count": 243,
     "metadata": {},
     "output_type": "execute_result"
    },
    {
     "data": {
      "image/png": "[encoded data removed]",
      "text/plain": [
       "<Figure size 800x600 with 1 Axes>"
      ]
     },
     "metadata": {},
     "output_type": "display_data"
    }
   ],
   "source": [
    "\n",
    "plt.figure(figsize=(8,6))\n",
    "sns.boxplot(x=data2['residual sugar'])\n",
    "plt.title('Boxplot of residual sugar column after capping')"
   ]
  },
  {
   "cell_type": "markdown",
   "id": "fb301972",
   "metadata": {},
   "source": [
    "# Percentile Method\n"
   ]
  },
  {
   "cell_type": "markdown",
   "id": "02139fb7",
   "metadata": {},
   "source": [
    "#### The percentile method can be used to handle outliers in a dataset. The percentile method involves setting a threshold based on percentiles and capping or truncating the outlier values accordingly\n"
   ]
  },
  {
   "cell_type": "markdown",
   "id": "f224cdc0",
   "metadata": {},
   "source": [
    "## First let us calculate the upper and lower limit"
   ]
  },
  {
   "cell_type": "code",
   "execution_count": 245,
   "id": "e565666a",
   "metadata": {},
   "outputs": [
    {
     "name": "stdout",
     "output_type": "stream",
     "text": [
      "upper limit: 8.215999999999985\n",
      "lower limit: 1.4\n"
     ]
    }
   ],
   "source": [
    "upper_limit = data['residual sugar'].quantile(0.99)\n",
    "lower_limit = data['residual sugar'].quantile(0.01)\n",
    "print('upper limit:', upper_limit)\n",
    "print('lower limit:', lower_limit)"
   ]
  },
  {
   "cell_type": "markdown",
   "id": "4abf25a2",
   "metadata": {},
   "source": [
    "The quantile() function in pandas is used to calculate the desired percentiles of the 'residual sugar' column in the DataFrame df\n",
    "\n",
    "\n",
    "upper_limit is calculated as the value at the 99th percentile (0.99) of the 'residual sugar' column, and lower_limit is calculated as the value at the 1st percentile (0.01)\n",
    "\n",
    "\n",
    "By printing these values, you can obtain the specific upper and lower limits that define the range within which data points are considered non-outliers according to the percentile method. These limits are calculated based on the specified percentiles and can be used to handle outliers in the 'residual sugar' column of your dataset\n"
   ]
  },
  {
   "cell_type": "markdown",
   "id": "57ff5856",
   "metadata": {},
   "source": [
    "## Next let us plot the data"
   ]
  },
  {
   "cell_type": "code",
   "execution_count": 247,
   "id": "2226f5ab",
   "metadata": {},
   "outputs": [
    {
     "data": {
      "image/png": "[encoded data removed]",
      "text/plain": [
       "<Figure size 800x600 with 1 Axes>"
      ]
     },
     "metadata": {},
     "output_type": "display_data"
    }
   ],
   "source": [
    "\n",
    "\n",
    "plt.figure(figsize=(8,6))\n",
    "sns.boxplot(data=data,x=data['residual sugar'])\n",
    "plt.title('Boxplot of residual sugar column before trimming or capping outliers')\n",
    "plt.show()\n"
   ]
  },
  {
   "cell_type": "markdown",
   "id": "ba640dca",
   "metadata": {},
   "source": [
    "### Next we will find the outliers using upper and lower limit calculated earlier"
   ]
  },
  {
   "cell_type": "code",
   "execution_count": 248,
   "id": "0eb68f89",
   "metadata": {},
   "outputs": [
    {
     "data": {
      "text/html": [
       "<div>\n",
       "<style scoped>\n",
       "    .dataframe tbody tr th:only-of-type {\n",
       "        vertical-align: middle;\n",
       "    }\n",
       "\n",
       "    .dataframe tbody tr th {\n",
       "        vertical-align: top;\n",
       "    }\n",
       "\n",
       "    .dataframe thead th {\n",
       "        text-align: right;\n",
       "    }\n",
       "</style>\n",
       "<table border=\"1\" class=\"dataframe\">\n",
       "  <thead>\n",
       "    <tr style=\"text-align: right;\">\n",
       "      <th></th>\n",
       "      <th>fixed acidity</th>\n",
       "      <th>volatile acidity</th>\n",
       "      <th>citric acid</th>\n",
       "      <th>residual sugar</th>\n",
       "      <th>chlorides</th>\n",
       "      <th>free sulfur dioxide</th>\n",
       "      <th>total sulfur dioxide</th>\n",
       "      <th>density</th>\n",
       "      <th>pH</th>\n",
       "      <th>sulphates</th>\n",
       "      <th>alcohol</th>\n",
       "      <th>quality</th>\n",
       "      <th>Id</th>\n",
       "    </tr>\n",
       "  </thead>\n",
       "  <tbody>\n",
       "    <tr>\n",
       "      <th>7</th>\n",
       "      <td>7.3</td>\n",
       "      <td>0.65</td>\n",
       "      <td>0.00</td>\n",
       "      <td>1.2</td>\n",
       "      <td>0.065</td>\n",
       "      <td>15.0</td>\n",
       "      <td>21.0</td>\n",
       "      <td>0.99460</td>\n",
       "      <td>3.39</td>\n",
       "      <td>0.47</td>\n",
       "      <td>10.0</td>\n",
       "      <td>7</td>\n",
       "      <td>7</td>\n",
       "    </tr>\n",
       "    <tr>\n",
       "      <th>112</th>\n",
       "      <td>7.6</td>\n",
       "      <td>0.68</td>\n",
       "      <td>0.02</td>\n",
       "      <td>1.3</td>\n",
       "      <td>0.072</td>\n",
       "      <td>9.0</td>\n",
       "      <td>20.0</td>\n",
       "      <td>0.99650</td>\n",
       "      <td>3.17</td>\n",
       "      <td>1.08</td>\n",
       "      <td>9.2</td>\n",
       "      <td>4</td>\n",
       "      <td>161</td>\n",
       "    </tr>\n",
       "    <tr>\n",
       "      <th>230</th>\n",
       "      <td>10.0</td>\n",
       "      <td>0.49</td>\n",
       "      <td>0.20</td>\n",
       "      <td>11.0</td>\n",
       "      <td>0.071</td>\n",
       "      <td>13.0</td>\n",
       "      <td>50.0</td>\n",
       "      <td>1.00150</td>\n",
       "      <td>3.16</td>\n",
       "      <td>0.69</td>\n",
       "      <td>9.2</td>\n",
       "      <td>6</td>\n",
       "      <td>324</td>\n",
       "    </tr>\n",
       "    <tr>\n",
       "      <th>231</th>\n",
       "      <td>10.0</td>\n",
       "      <td>0.49</td>\n",
       "      <td>0.20</td>\n",
       "      <td>11.0</td>\n",
       "      <td>0.071</td>\n",
       "      <td>13.0</td>\n",
       "      <td>50.0</td>\n",
       "      <td>1.00150</td>\n",
       "      <td>3.16</td>\n",
       "      <td>0.69</td>\n",
       "      <td>9.2</td>\n",
       "      <td>6</td>\n",
       "      <td>325</td>\n",
       "    </tr>\n",
       "    <tr>\n",
       "      <th>300</th>\n",
       "      <td>9.1</td>\n",
       "      <td>0.52</td>\n",
       "      <td>0.33</td>\n",
       "      <td>1.3</td>\n",
       "      <td>0.070</td>\n",
       "      <td>9.0</td>\n",
       "      <td>30.0</td>\n",
       "      <td>0.99780</td>\n",
       "      <td>3.24</td>\n",
       "      <td>0.60</td>\n",
       "      <td>9.3</td>\n",
       "      <td>5</td>\n",
       "      <td>428</td>\n",
       "    </tr>\n",
       "    <tr>\n",
       "      <th>331</th>\n",
       "      <td>8.7</td>\n",
       "      <td>0.82</td>\n",
       "      <td>0.02</td>\n",
       "      <td>1.2</td>\n",
       "      <td>0.070</td>\n",
       "      <td>36.0</td>\n",
       "      <td>48.0</td>\n",
       "      <td>0.99520</td>\n",
       "      <td>3.20</td>\n",
       "      <td>0.58</td>\n",
       "      <td>9.8</td>\n",
       "      <td>5</td>\n",
       "      <td>469</td>\n",
       "    </tr>\n",
       "    <tr>\n",
       "      <th>339</th>\n",
       "      <td>10.6</td>\n",
       "      <td>0.28</td>\n",
       "      <td>0.39</td>\n",
       "      <td>15.5</td>\n",
       "      <td>0.069</td>\n",
       "      <td>6.0</td>\n",
       "      <td>23.0</td>\n",
       "      <td>1.00260</td>\n",
       "      <td>3.12</td>\n",
       "      <td>0.66</td>\n",
       "      <td>9.2</td>\n",
       "      <td>5</td>\n",
       "      <td>480</td>\n",
       "    </tr>\n",
       "    <tr>\n",
       "      <th>348</th>\n",
       "      <td>6.5</td>\n",
       "      <td>0.39</td>\n",
       "      <td>0.23</td>\n",
       "      <td>8.3</td>\n",
       "      <td>0.051</td>\n",
       "      <td>28.0</td>\n",
       "      <td>91.0</td>\n",
       "      <td>0.99520</td>\n",
       "      <td>3.44</td>\n",
       "      <td>0.55</td>\n",
       "      <td>12.1</td>\n",
       "      <td>6</td>\n",
       "      <td>494</td>\n",
       "    </tr>\n",
       "    <tr>\n",
       "      <th>460</th>\n",
       "      <td>6.7</td>\n",
       "      <td>0.42</td>\n",
       "      <td>0.27</td>\n",
       "      <td>8.6</td>\n",
       "      <td>0.068</td>\n",
       "      <td>24.0</td>\n",
       "      <td>148.0</td>\n",
       "      <td>0.99480</td>\n",
       "      <td>3.16</td>\n",
       "      <td>0.57</td>\n",
       "      <td>11.3</td>\n",
       "      <td>6</td>\n",
       "      <td>649</td>\n",
       "    </tr>\n",
       "    <tr>\n",
       "      <th>493</th>\n",
       "      <td>5.1</td>\n",
       "      <td>0.47</td>\n",
       "      <td>0.02</td>\n",
       "      <td>1.3</td>\n",
       "      <td>0.034</td>\n",
       "      <td>18.0</td>\n",
       "      <td>44.0</td>\n",
       "      <td>0.99210</td>\n",
       "      <td>3.90</td>\n",
       "      <td>0.62</td>\n",
       "      <td>12.8</td>\n",
       "      <td>6</td>\n",
       "      <td>695</td>\n",
       "    </tr>\n",
       "    <tr>\n",
       "      <th>644</th>\n",
       "      <td>9.1</td>\n",
       "      <td>0.28</td>\n",
       "      <td>0.46</td>\n",
       "      <td>9.0</td>\n",
       "      <td>0.114</td>\n",
       "      <td>3.0</td>\n",
       "      <td>9.0</td>\n",
       "      <td>0.99901</td>\n",
       "      <td>3.18</td>\n",
       "      <td>0.60</td>\n",
       "      <td>10.9</td>\n",
       "      <td>6</td>\n",
       "      <td>911</td>\n",
       "    </tr>\n",
       "    <tr>\n",
       "      <th>648</th>\n",
       "      <td>6.8</td>\n",
       "      <td>0.41</td>\n",
       "      <td>0.31</td>\n",
       "      <td>8.8</td>\n",
       "      <td>0.084</td>\n",
       "      <td>26.0</td>\n",
       "      <td>45.0</td>\n",
       "      <td>0.99824</td>\n",
       "      <td>3.38</td>\n",
       "      <td>0.64</td>\n",
       "      <td>10.1</td>\n",
       "      <td>6</td>\n",
       "      <td>917</td>\n",
       "    </tr>\n",
       "    <tr>\n",
       "      <th>714</th>\n",
       "      <td>8.0</td>\n",
       "      <td>0.18</td>\n",
       "      <td>0.37</td>\n",
       "      <td>0.9</td>\n",
       "      <td>0.049</td>\n",
       "      <td>36.0</td>\n",
       "      <td>109.0</td>\n",
       "      <td>0.99007</td>\n",
       "      <td>2.89</td>\n",
       "      <td>0.44</td>\n",
       "      <td>12.7</td>\n",
       "      <td>6</td>\n",
       "      <td>1018</td>\n",
       "    </tr>\n",
       "    <tr>\n",
       "      <th>760</th>\n",
       "      <td>7.9</td>\n",
       "      <td>0.30</td>\n",
       "      <td>0.68</td>\n",
       "      <td>8.3</td>\n",
       "      <td>0.050</td>\n",
       "      <td>37.5</td>\n",
       "      <td>278.0</td>\n",
       "      <td>0.99316</td>\n",
       "      <td>3.01</td>\n",
       "      <td>0.51</td>\n",
       "      <td>12.3</td>\n",
       "      <td>7</td>\n",
       "      <td>1079</td>\n",
       "    </tr>\n",
       "    <tr>\n",
       "      <th>761</th>\n",
       "      <td>7.9</td>\n",
       "      <td>0.30</td>\n",
       "      <td>0.68</td>\n",
       "      <td>8.3</td>\n",
       "      <td>0.050</td>\n",
       "      <td>37.5</td>\n",
       "      <td>289.0</td>\n",
       "      <td>0.99316</td>\n",
       "      <td>3.01</td>\n",
       "      <td>0.51</td>\n",
       "      <td>12.3</td>\n",
       "      <td>7</td>\n",
       "      <td>1081</td>\n",
       "    </tr>\n",
       "    <tr>\n",
       "      <th>861</th>\n",
       "      <td>9.0</td>\n",
       "      <td>0.39</td>\n",
       "      <td>0.40</td>\n",
       "      <td>1.3</td>\n",
       "      <td>0.044</td>\n",
       "      <td>25.0</td>\n",
       "      <td>50.0</td>\n",
       "      <td>0.99478</td>\n",
       "      <td>3.20</td>\n",
       "      <td>0.83</td>\n",
       "      <td>10.9</td>\n",
       "      <td>6</td>\n",
       "      <td>1219</td>\n",
       "    </tr>\n",
       "    <tr>\n",
       "      <th>933</th>\n",
       "      <td>5.4</td>\n",
       "      <td>0.74</td>\n",
       "      <td>0.00</td>\n",
       "      <td>1.2</td>\n",
       "      <td>0.041</td>\n",
       "      <td>16.0</td>\n",
       "      <td>46.0</td>\n",
       "      <td>0.99258</td>\n",
       "      <td>4.01</td>\n",
       "      <td>0.59</td>\n",
       "      <td>12.5</td>\n",
       "      <td>6</td>\n",
       "      <td>1316</td>\n",
       "    </tr>\n",
       "    <tr>\n",
       "      <th>935</th>\n",
       "      <td>5.0</td>\n",
       "      <td>0.74</td>\n",
       "      <td>0.00</td>\n",
       "      <td>1.2</td>\n",
       "      <td>0.041</td>\n",
       "      <td>16.0</td>\n",
       "      <td>46.0</td>\n",
       "      <td>0.99258</td>\n",
       "      <td>4.01</td>\n",
       "      <td>0.59</td>\n",
       "      <td>12.5</td>\n",
       "      <td>6</td>\n",
       "      <td>1321</td>\n",
       "    </tr>\n",
       "    <tr>\n",
       "      <th>988</th>\n",
       "      <td>7.1</td>\n",
       "      <td>0.62</td>\n",
       "      <td>0.06</td>\n",
       "      <td>1.3</td>\n",
       "      <td>0.070</td>\n",
       "      <td>5.0</td>\n",
       "      <td>12.0</td>\n",
       "      <td>0.99420</td>\n",
       "      <td>3.17</td>\n",
       "      <td>0.48</td>\n",
       "      <td>9.8</td>\n",
       "      <td>5</td>\n",
       "      <td>1392</td>\n",
       "    </tr>\n",
       "    <tr>\n",
       "      <th>1022</th>\n",
       "      <td>10.2</td>\n",
       "      <td>0.54</td>\n",
       "      <td>0.37</td>\n",
       "      <td>15.4</td>\n",
       "      <td>0.214</td>\n",
       "      <td>55.0</td>\n",
       "      <td>95.0</td>\n",
       "      <td>1.00369</td>\n",
       "      <td>3.18</td>\n",
       "      <td>0.77</td>\n",
       "      <td>9.0</td>\n",
       "      <td>6</td>\n",
       "      <td>1434</td>\n",
       "    </tr>\n",
       "    <tr>\n",
       "      <th>1051</th>\n",
       "      <td>9.9</td>\n",
       "      <td>0.50</td>\n",
       "      <td>0.50</td>\n",
       "      <td>13.8</td>\n",
       "      <td>0.205</td>\n",
       "      <td>48.0</td>\n",
       "      <td>82.0</td>\n",
       "      <td>1.00242</td>\n",
       "      <td>3.16</td>\n",
       "      <td>0.75</td>\n",
       "      <td>8.8</td>\n",
       "      <td>5</td>\n",
       "      <td>1474</td>\n",
       "    </tr>\n",
       "    <tr>\n",
       "      <th>1053</th>\n",
       "      <td>9.9</td>\n",
       "      <td>0.50</td>\n",
       "      <td>0.50</td>\n",
       "      <td>13.8</td>\n",
       "      <td>0.205</td>\n",
       "      <td>48.0</td>\n",
       "      <td>82.0</td>\n",
       "      <td>1.00242</td>\n",
       "      <td>3.16</td>\n",
       "      <td>0.75</td>\n",
       "      <td>8.8</td>\n",
       "      <td>5</td>\n",
       "      <td>1476</td>\n",
       "    </tr>\n",
       "  </tbody>\n",
       "</table>\n",
       "</div>"
      ],
      "text/plain": [
       "      fixed acidity  volatile acidity  citric acid  residual sugar  chlorides  \\\n",
       "7               7.3              0.65         0.00             1.2      0.065   \n",
       "112             7.6              0.68         0.02             1.3      0.072   \n",
       "230            10.0              0.49         0.20            11.0      0.071   \n",
       "231            10.0              0.49         0.20            11.0      0.071   \n",
       "300             9.1              0.52         0.33             1.3      0.070   \n",
       "331             8.7              0.82         0.02             1.2      0.070   \n",
       "339            10.6              0.28         0.39            15.5      0.069   \n",
       "348             6.5              0.39         0.23             8.3      0.051   \n",
       "460             6.7              0.42         0.27             8.6      0.068   \n",
       "493             5.1              0.47         0.02             1.3      0.034   \n",
       "644             9.1              0.28         0.46             9.0      0.114   \n",
       "648             6.8              0.41         0.31             8.8      0.084   \n",
       "714             8.0              0.18         0.37             0.9      0.049   \n",
       "760             7.9              0.30         0.68             8.3      0.050   \n",
       "761             7.9              0.30         0.68             8.3      0.050   \n",
       "861             9.0              0.39         0.40             1.3      0.044   \n",
       "933             5.4              0.74         0.00             1.2      0.041   \n",
       "935             5.0              0.74         0.00             1.2      0.041   \n",
       "988             7.1              0.62         0.06             1.3      0.070   \n",
       "1022           10.2              0.54         0.37            15.4      0.214   \n",
       "1051            9.9              0.50         0.50            13.8      0.205   \n",
       "1053            9.9              0.50         0.50            13.8      0.205   \n",
       "\n",
       "      free sulfur dioxide  total sulfur dioxide  density    pH  sulphates  \\\n",
       "7                    15.0                  21.0  0.99460  3.39       0.47   \n",
       "112                   9.0                  20.0  0.99650  3.17       1.08   \n",
       "230                  13.0                  50.0  1.00150  3.16       0.69   \n",
       "231                  13.0                  50.0  1.00150  3.16       0.69   \n",
       "300                   9.0                  30.0  0.99780  3.24       0.60   \n",
       "331                  36.0                  48.0  0.99520  3.20       0.58   \n",
       "339                   6.0                  23.0  1.00260  3.12       0.66   \n",
       "348                  28.0                  91.0  0.99520  3.44       0.55   \n",
       "460                  24.0                 148.0  0.99480  3.16       0.57   \n",
       "493                  18.0                  44.0  0.99210  3.90       0.62   \n",
       "644                   3.0                   9.0  0.99901  3.18       0.60   \n",
       "648                  26.0                  45.0  0.99824  3.38       0.64   \n",
       "714                  36.0                 109.0  0.99007  2.89       0.44   \n",
       "760                  37.5                 278.0  0.99316  3.01       0.51   \n",
       "761                  37.5                 289.0  0.99316  3.01       0.51   \n",
       "861                  25.0                  50.0  0.99478  3.20       0.83   \n",
       "933                  16.0                  46.0  0.99258  4.01       0.59   \n",
       "935                  16.0                  46.0  0.99258  4.01       0.59   \n",
       "988                   5.0                  12.0  0.99420  3.17       0.48   \n",
       "1022                 55.0                  95.0  1.00369  3.18       0.77   \n",
       "1051                 48.0                  82.0  1.00242  3.16       0.75   \n",
       "1053                 48.0                  82.0  1.00242  3.16       0.75   \n",
       "\n",
       "      alcohol  quality    Id  \n",
       "7        10.0        7     7  \n",
       "112       9.2        4   161  \n",
       "230       9.2        6   324  \n",
       "231       9.2        6   325  \n",
       "300       9.3        5   428  \n",
       "331       9.8        5   469  \n",
       "339       9.2        5   480  \n",
       "348      12.1        6   494  \n",
       "460      11.3        6   649  \n",
       "493      12.8        6   695  \n",
       "644      10.9        6   911  \n",
       "648      10.1        6   917  \n",
       "714      12.7        6  1018  \n",
       "760      12.3        7  1079  \n",
       "761      12.3        7  1081  \n",
       "861      10.9        6  1219  \n",
       "933      12.5        6  1316  \n",
       "935      12.5        6  1321  \n",
       "988       9.8        5  1392  \n",
       "1022      9.0        6  1434  \n",
       "1051      8.8        5  1474  \n",
       "1053      8.8        5  1476  "
      ]
     },
     "execution_count": 248,
     "metadata": {},
     "output_type": "execute_result"
    }
   ],
   "source": [
    " #find the outliers\n",
    "    \n",
    "data.loc[(data['residual sugar'] > upper_limit) | (data['residual sugar'] < lower_limit)]"
   ]
  },
  {
   "cell_type": "markdown",
   "id": "e4364720",
   "metadata": {},
   "source": [
    "                                Dataframe with outliers"
   ]
  },
  {
   "cell_type": "markdown",
   "id": "a85c06a7",
   "metadata": {},
   "source": [
    "### Next let us perform trimming of the outliers"
   ]
  },
  {
   "cell_type": "code",
   "execution_count": 251,
   "id": "744c5b4f",
   "metadata": {},
   "outputs": [
    {
     "name": "stdout",
     "output_type": "stream",
     "text": [
      "before removing outliers: 1143\n",
      "after removing outliers: 1121\n",
      "outliers: 22\n"
     ]
    }
   ],
   "source": [
    "# trimming - delete the outlier data\n",
    "data3 = data.loc[(data['residual sugar'] <= upper_limit) & (data['residual sugar'] >= lower_limit)]\n",
    "print('before removing outliers:', len(data))\n",
    "print('after removing outliers:',len(data3))\n",
    "print('outliers:', len(data)-len(data3))"
   ]
  },
  {
   "cell_type": "markdown",
   "id": "d4623e65",
   "metadata": {},
   "source": [
    "The code snippet filters the DataFrame df based on the upper and lower limits calculated using the percentile method. It creates a new DataFrame named new_df that includes only the rows with 'residual sugar' values within the calculated limit"
   ]
  },
  {
   "cell_type": "markdown",
   "id": "240ebe90",
   "metadata": {},
   "source": [
    "### Next let us plot the data after trimming outliers"
   ]
  },
  {
   "cell_type": "code",
   "execution_count": 254,
   "id": "a83274ac",
   "metadata": {},
   "outputs": [
    {
     "data": {
      "image/png": "[encoded data removed]",
      "text/plain": [
       "<Figure size 800x600 with 1 Axes>"
      ]
     },
     "metadata": {},
     "output_type": "display_data"
    }
   ],
   "source": [
    "\n",
    "plt.figure(figsize=(8,6))\n",
    "sns.boxplot(data=data3,x=data3['residual sugar'])\n",
    "plt.title('Boxplot of residual sugar column after trimming using Percentile method')\n",
    "plt.show()"
   ]
  },
  {
   "cell_type": "markdown",
   "id": "6e713e45",
   "metadata": {},
   "source": [
    "### Next let us perform capping of the outliers"
   ]
  },
  {
   "cell_type": "code",
   "execution_count": null,
   "id": "a1dad2f7",
   "metadata": {},
   "outputs": [],
   "source": [
    "# capping - change the outlier values to upper (or) lower limit values\n",
    "new_df = df.copy()\n",
    "new_df.loc[(new_df['residual sugar']>upper_limit), 'residual sugar'] = upper_limit\n",
    "new_df.loc[(new_df['residual sugar']<lower_limit), 'residual sugar'] = lower_limit"
   ]
  },
  {
   "cell_type": "markdown",
   "id": "2c4155f9",
   "metadata": {},
   "source": [
    "The code you provided performs capping by replacing the outlier values in the 'residual sugar' column of the DataFrame df with the upper or lower limit values. The DataFrame new_df is created as a copy of the original DataFrame df, and the outlier values are modified accordingly"
   ]
  },
  {
   "cell_type": "markdown",
   "id": "297d429b",
   "metadata": {},
   "source": [
    "### Next let us plot the data after performing capping"
   ]
  },
  {
   "cell_type": "code",
   "execution_count": 258,
   "id": "fb3c09bd",
   "metadata": {},
   "outputs": [
    {
     "data": {
      "image/png": "[encoded data removed]",
      "text/plain": [
       "<Figure size 800x600 with 1 Axes>"
      ]
     },
     "metadata": {},
     "output_type": "display_data"
    }
   ],
   "source": [
    "plt.figure(figsize=(8,6))\n",
    "sns.boxplot(x=data3['residual sugar'])\n",
    "plt.title('Boxplot of residual sugar column after capping using Percentile method')\n",
    "plt.show()"
   ]
  },
  {
   "cell_type": "markdown",
   "id": "4b69d314",
   "metadata": {},
   "source": [
    "    "
   ]
  },
  {
   "cell_type": "markdown",
   "id": "1114751b",
   "metadata": {},
   "source": [
    "## Next let us plot the distplot for both old and new dataframe"
   ]
  },
  {
   "cell_type": "code",
   "execution_count": 266,
   "id": "8a7e1e00",
   "metadata": {},
   "outputs": [
    {
     "name": "stderr",
     "output_type": "stream",
     "text": [
      "C:\\Users\\USER\\AppData\\Local\\Temp\\ipykernel_30412\\4050080523.py:1: UserWarning: \n",
      "\n",
      "`distplot` is a deprecated function and will be removed in seaborn v0.14.0.\n",
      "\n",
      "Please adapt your code to use either `displot` (a figure-level function with\n",
      "similar flexibility) or `histplot` (an axes-level function for histograms).\n",
      "\n",
      "For a guide to updating your code to use the new functions, please see\n",
      "https://gist.github.com/mwaskom/de44147ed2974457ad6372750bbe5751\n",
      "\n",
      "  sns.distplot(data['residual sugar'])\n"
     ]
    },
    {
     "data": {
      "image/png": "[encoded data removed]",
      "text/plain": [
       "<Figure size 640x480 with 1 Axes>"
      ]
     },
     "metadata": {},
     "output_type": "display_data"
    }
   ],
   "source": [
    "sns.distplot(data['residual sugar'])\n",
    "plt.title(' Distribution plot before removing outliers')\n",
    "plt.savefig('distribution_plot_before_removing_outliers.pdf', format='pdf')\n",
    "\n",
    "plt.show()"
   ]
  },
  {
   "cell_type": "markdown",
   "id": "4103950b",
   "metadata": {},
   "source": [
    "                Distribution plot before removing outliers"
   ]
  },
  {
   "cell_type": "code",
   "execution_count": 265,
   "id": "8ab31ae4",
   "metadata": {},
   "outputs": [
    {
     "name": "stderr",
     "output_type": "stream",
     "text": [
      "C:\\Users\\USER\\AppData\\Local\\Temp\\ipykernel_30412\\2886340093.py:2: UserWarning: \n",
      "\n",
      "`distplot` is a deprecated function and will be removed in seaborn v0.14.0.\n",
      "\n",
      "Please adapt your code to use either `displot` (a figure-level function with\n",
      "similar flexibility) or `histplot` (an axes-level function for histograms).\n",
      "\n",
      "For a guide to updating your code to use the new functions, please see\n",
      "https://gist.github.com/mwaskom/de44147ed2974457ad6372750bbe5751\n",
      "\n",
      "  sns.distplot(x=data3['residual sugar'])\n"
     ]
    },
    {
     "data": {
      "image/png": "[encoded data removed]",
      "text/plain": [
       "<Figure size 800x600 with 1 Axes>"
      ]
     },
     "metadata": {},
     "output_type": "display_data"
    }
   ],
   "source": [
    "plt.figure(figsize=(8,6))\n",
    "sns.distplot(x=data3['residual sugar'])\n",
    "plt.title('Distribution plot after removing outliers')\n",
    "\n",
    "# Save the plot to a PDF file\n",
    "plt.savefig('distribution_plot_after_removing_outliers.pdf', format='pdf')\n",
    "\n",
    "plt.show()\n"
   ]
  },
  {
   "cell_type": "markdown",
   "id": "e856924a",
   "metadata": {},
   "source": [
    "                     Distribution plot after removing outliers\n"
   ]
  },
  {
   "cell_type": "markdown",
   "id": "640ee9c7",
   "metadata": {},
   "source": [
    "## Final Thoughts on Outliers"
   ]
  },
  {
   "cell_type": "markdown",
   "id": "89f7b825",
   "metadata": {},
   "source": [
    "## Summary of Methods Explored\n",
    "\n",
    "In this article, we have explored how to detect and remove outliers using various methods:"
   ]
  },
  {
   "cell_type": "markdown",
   "id": "a65e0a93",
   "metadata": {},
   "source": [
    "Z-Score Method: Identifying data points that fall outside a certain threshold based on the standard deviation.\n",
    "\n",
    "Interquartile Range (IQR) Method: Identifying outliers using the first (Q1) and third quartiles (Q3) and the interquartile range.\n",
    "\n",
    "Percentile Method: Using percentiles to detect and handle outliers.\n",
    "\n",
    "Trimming and Capping: Techniques to remove or adjust outliers based on the methods mentioned above.\n"
   ]
  },
  {
   "cell_type": "markdown",
   "id": "be25daf8",
   "metadata": {},
   "source": [
    "     "
   ]
  },
  {
   "cell_type": "markdown",
   "id": "11f83f37",
   "metadata": {},
   "source": [
    "By following these methods, we can ensure that our dataset is clean and suitable for accurate analysis and modeling."
   ]
  }
 ],
 "metadata": {
  "kernelspec": {
   "display_name": "Python 3 (ipykernel)",
   "language": "python",
   "name": "python3"
  },
  "language_info": {
   "codemirror_mode": {
    "name": "ipython",
    "version": 3
   },
   "file_extension": ".py",
   "mimetype": "text/x-python",
   "name": "python",
   "nbconvert_exporter": "python",
   "pygments_lexer": "ipython3",
   "version": "3.11.5"
  }
 },
 "nbformat": 4,
 "nbformat_minor": 5
}
